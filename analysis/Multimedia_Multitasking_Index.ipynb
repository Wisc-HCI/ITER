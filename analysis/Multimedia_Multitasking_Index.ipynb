{
 "cells": [
  {
   "cell_type": "code",
   "execution_count": 48,
   "metadata": {},
   "outputs": [
    {
     "data": {
      "text/plain": [
       "0      1\n",
       "1      2\n",
       "2      4\n",
       "3      5\n",
       "4      6\n",
       "5      7\n",
       "6      8\n",
       "7      9\n",
       "8     10\n",
       "9     11\n",
       "10    12\n",
       "11    13\n",
       "12    14\n",
       "13    15\n",
       "14    16\n",
       "15    17\n",
       "16    18\n",
       "17    19\n",
       "18    20\n",
       "19    21\n",
       "20    22\n",
       "21    23\n",
       "22    24\n",
       "23    25\n",
       "24    26\n",
       "25    27\n",
       "26    28\n",
       "27    29\n",
       "28    30\n",
       "29    31\n",
       "30    32\n",
       "31    33\n",
       "32    34\n",
       "33    35\n",
       "Name: Q103, dtype: int64"
      ]
     },
     "metadata": {},
     "output_type": "display_data"
    }
   ],
   "source": [
    "import os\n",
    "import numpy as np\n",
    "import pandas as pd\n",
    "from IPython.display import display\n",
    "\n",
    "path = './data/ROMAN_2020'\n",
    "\n",
    "df = pd.read_csv(os.path.join(path,'ITE_full.csv'))\n",
    "\n",
    "df.shape\n",
    "\n",
    "participants = df['Q103']\n",
    "display(participants)"
   ]
  },
  {
   "cell_type": "markdown",
   "metadata": {},
   "source": [
    "Q1_1 -> Q1_12 hours per week. [print, tv, comp vid, music audio, non-music audio, video/computer games, telephone, SMS, Instant message, eamil, web surfing, other comp app]\n",
    "\n",
    "Q2_1 -> Q2_11 primary print media with others: [tv, comp vid, music audio, non-music audio, video games, telephone, SMS, Instant message, email, web surf, other comp app]\n",
    "\n",
    "Q5_1 -> Q5_11 primary tv [print, comp vid, music audio, non-music audio, video games, telephone, SMS, Instant message, email web surf, other comp app]\n",
    "\n",
    "Q6_1 -> Q6_11 primary comp vid [print, tv, music audio, non-music audio, video games, telephone, SMS, Instant message, email web surf, other comp app]\n",
    "\n",
    "Q8_1 -> Q8_11 primary music [print, tv, comp vid, non-music audio, video/computer games, telephone, SMS, Instant message, eamil, web surfing, other comp app]\n",
    "\n",
    "Q9_1 -> Q9_11 primary non-music audio [print, tv, comp vid, music audio, video/computer games, telephone, SMS, Instant message, eamil, web surfing, other comp app]\n",
    "\n",
    "Q10_1 -> Q10_11 primary video games [print, tv, comp vid, music audio, non-music audio, telephone, SMS, Instant message, eamil, web surfing, other comp app]\n",
    "\n",
    "Q11_1 -> Q11_11 primary phone [print, tv, comp vid, music audio, non-music audio, video/computer games, SMS, Instant message, eamil, web surfing, other comp app]\n",
    "\n",
    "Q12_1 -> Q12_11 primary sms [print, tv, comp vid, music audio, non-music audio, video/computer games, telephone, Instant message, eamil, web surfing, other comp app]\n",
    "\n",
    "Q13_1 -> Q13_11 primary instant messaging [print, tv, comp vid, music audio, non-music audio, video/computer games, telephone, SMS, eamil, web surfing, other comp app]\n",
    "\n",
    "Q14_1 -> Q14_11 primary email [print, tv, comp vid, music audio, non-music audio, video/computer games, telephone, SMS, Instant message, web surfing, other comp app]\n",
    "\n",
    "Q7_1 -> Q7_11 primary web surfing [print, tv, comp vid, music audio, non-music audio, video/computer games, telephone, SMS, Instant message, eamil, other comp app]\n",
    "\n",
    "Q15_1 -> Q15_11 primary other comp apps [print, tv, comp vid, music audio, non-music audio, video/computer games, telephone, SMS, Instant message, eamil, web surfing]"
   ]
  },
  {
   "cell_type": "code",
   "execution_count": 49,
   "metadata": {},
   "outputs": [],
   "source": [
    "#prunedLabels = df[1:-1]\n",
    "prunedLabels = df\n",
    "#display(prunedLabels)"
   ]
  },
  {
   "cell_type": "code",
   "execution_count": 50,
   "metadata": {},
   "outputs": [],
   "source": [
    "# Matrix 1 - primary print media\n",
    "labels = ['Q2_{}'.format(i) for i in range(1,12)]\n",
    "weightedSecondary = prunedLabels[labels].apply(lambda x: round((pd.to_numeric(x, errors='coerce') - 1) / 3, 2))\n",
    "mediaPrint = weightedSecondary.sum(axis=1, skipna=False)\n",
    "\n",
    "# Matrix 2 - primary tv\n",
    "labels = ['Q5_{}'.format(i) for i in range(1,12)]\n",
    "weightedSecondary = prunedLabels[labels].apply(lambda x: round((pd.to_numeric(x, errors='coerce') - 1) / 3, 2))\n",
    "mediaTv = weightedSecondary.sum(axis=1, skipna=False)\n",
    "\n",
    "# Matrix 3 - primary comp video\n",
    "labels = ['Q6_{}'.format(i) for i in range(1,12)]\n",
    "weightedSecondary = prunedLabels[labels].apply(lambda x: round((pd.to_numeric(x, errors='coerce') - 1) / 3, 2))\n",
    "mediaCompVideo = weightedSecondary.sum(axis=1, skipna=False)\n",
    "\n",
    "# Matrix 4 - primary music\n",
    "labels = ['Q8_{}'.format(i) for i in range(1,12)]\n",
    "weightedSecondary = prunedLabels[labels].apply(lambda x: round((pd.to_numeric(x, errors='coerce') - 1) / 3, 2))\n",
    "mediaMusic = weightedSecondary.sum(axis=1, skipna=False)\n",
    "\n",
    "# Matrix 5 - primary non-music audio\n",
    "labels = ['Q9_{}'.format(i) for i in range(1,12)]\n",
    "weightedSecondary = prunedLabels[labels].apply(lambda x: round((pd.to_numeric(x, errors='coerce') - 1) / 3, 2))\n",
    "mediaNonMusic = weightedSecondary.sum(axis=1, skipna=False)\n",
    "\n",
    "# Matrix 6 - primary video grames\n",
    "labels = ['Q10_{}'.format(i) for i in range(1,12)]\n",
    "weightedSecondary = prunedLabels[labels].apply(lambda x: round((pd.to_numeric(x, errors='coerce') - 1) / 3, 2))\n",
    "mediaVideoGames = weightedSecondary.sum(axis=1, skipna=False)\n",
    "\n",
    "# Matrix 7 - primary phone\n",
    "labels = ['Q11_{}'.format(i) for i in range(1,12)]\n",
    "weightedSecondary = prunedLabels[labels].apply(lambda x: round((pd.to_numeric(x, errors='coerce') - 1) / 3, 2))\n",
    "mediaPhone = weightedSecondary.sum(axis=1, skipna=False)\n",
    "\n",
    "## Matrix 8 - primary SMS  (we skip this in the index result itself)\n",
    "#labels = ['Q12_{}'.format(i) for i in range(1,12)]\n",
    "#weightedSecondary = prunedLabels[labels].apply(lambda x: round((pd.to_numeric(x, errors='coerce') - 1) / 3, 2))\n",
    "#mediaSMS = weightedSecondary.sum(axis=1, skipna=False)\n",
    "\n",
    "# Matrix 9 - primary instant messaging\n",
    "labels = ['Q13_{}'.format(i) for i in range(1,12)]\n",
    "weightedSecondary = prunedLabels[labels].apply(lambda x: round((pd.to_numeric(x, errors='coerce') - 1) / 3, 2))\n",
    "mediaIMsg = weightedSecondary.sum(axis=1, skipna=False)\n",
    "\n",
    "# Matrix 10 - primary email\n",
    "labels = ['Q14_{}'.format(i) for i in range(1,12)]\n",
    "weightedSecondary = prunedLabels[labels].apply(lambda x: round((pd.to_numeric(x, errors='coerce') - 1) / 3, 2))\n",
    "mediaEmail = weightedSecondary.sum(axis=1, skipna=False)\n",
    "\n",
    "# Matrix 11 - primary web surfing\n",
    "labels = ['Q7_{}'.format(i) for i in range(1,12)]\n",
    "weightedSecondary = prunedLabels[labels].apply(lambda x: round((pd.to_numeric(x, errors='coerce') - 1) / 3, 2))\n",
    "mediaWeb = weightedSecondary.sum(axis=1, skipna=False)\n",
    "\n",
    "# Matrix 12 - primary other computer apps\n",
    "# problem here : missing last item\n",
    "#labels = ['Q15_{}'.format(i) for i in range(1,12)]\n",
    "#weightedSecondary = prunedLabels[labels].apply(lambda x: round((pd.to_numeric(x, errors='coerce') - 1) / 3, 2))\n",
    "#mediaOther = weightedSecondary.sum(axis=1, skipna=False)\n"
   ]
  },
  {
   "cell_type": "code",
   "execution_count": 51,
   "metadata": {},
   "outputs": [],
   "source": [
    "hourLabels = ['Q1_{}'.format(i) for i in range(1,12)] # skipping other comp apps\n",
    "hourLabels.remove('Q1_8')\n",
    "matrixVals = [mediaPrint, mediaTv, mediaCompVideo, mediaMusic, mediaNonMusic, mediaVideoGames, mediaPhone, mediaIMsg, mediaEmail, mediaWeb]"
   ]
  },
  {
   "cell_type": "code",
   "execution_count": 52,
   "metadata": {},
   "outputs": [
    {
     "data": {
      "text/plain": [
       "0     2.403846\n",
       "1     1.758065\n",
       "2     2.472394\n",
       "3     3.598542\n",
       "4     3.253026\n",
       "5     1.846061\n",
       "6     3.723077\n",
       "7     3.695370\n",
       "8     3.014945\n",
       "9     2.233140\n",
       "10         NaN\n",
       "11    2.068846\n",
       "12    0.250000\n",
       "13    3.097821\n",
       "14    4.111545\n",
       "15    2.938889\n",
       "16    3.202632\n",
       "17    3.192833\n",
       "18    1.364000\n",
       "19    2.074746\n",
       "20    3.693143\n",
       "21    1.567013\n",
       "22    4.819206\n",
       "23    4.274600\n",
       "24    2.092391\n",
       "25    3.824731\n",
       "26         NaN\n",
       "27    1.186140\n",
       "28    2.752344\n",
       "29    1.483273\n",
       "30         NaN\n",
       "31    3.300588\n",
       "32    1.771515\n",
       "33         NaN\n",
       "dtype: float64"
      ]
     },
     "metadata": {},
     "output_type": "display_data"
    }
   ],
   "source": [
    "h_total = prunedLabels[hourLabels].sum(axis=1, skipna=False)\n",
    "#print(h_total)\n",
    "\n",
    "MMI = 0\n",
    "for i in range(0,10):\n",
    "    hourWeights = pd.to_numeric(prunedLabels[hourLabels[i]], errors='coerce')\n",
    "    MMI = MMI + (hourWeights.multiply(matrixVals[i]).truediv(h_total))\n",
    "\n",
    "display(MMI)"
   ]
  },
  {
   "cell_type": "code",
   "execution_count": 53,
   "metadata": {},
   "outputs": [
    {
     "data": {
      "text/plain": [
       "(34,)"
      ]
     },
     "execution_count": 53,
     "metadata": {},
     "output_type": "execute_result"
    },
    {
     "data": {
      "image/png": "[encoded data removed]",
      "text/plain": [
       "<Figure size 432x288 with 1 Axes>"
      ]
     },
     "metadata": {
      "needs_background": "light"
     },
     "output_type": "display_data"
    }
   ],
   "source": [
    "import matplotlib\n",
    "MMI.plot.box()\n",
    "MMI.shape"
   ]
  },
  {
   "cell_type": "code",
   "execution_count": 59,
   "metadata": {},
   "outputs": [
    {
     "data": {
      "text/html": [
       "<div>\n",
       "<style scoped>\n",
       "    .dataframe tbody tr th:only-of-type {\n",
       "        vertical-align: middle;\n",
       "    }\n",
       "\n",
       "    .dataframe tbody tr th {\n",
       "        vertical-align: top;\n",
       "    }\n",
       "\n",
       "    .dataframe thead th {\n",
       "        text-align: right;\n",
       "    }\n",
       "</style>\n",
       "<table border=\"1\" class=\"dataframe\">\n",
       "  <thead>\n",
       "    <tr style=\"text-align: right;\">\n",
       "      <th></th>\n",
       "      <th>PID</th>\n",
       "      <th>MMI</th>\n",
       "    </tr>\n",
       "  </thead>\n",
       "  <tbody>\n",
       "    <tr>\n",
       "      <td>0</td>\n",
       "      <td>1</td>\n",
       "      <td>2.403846</td>\n",
       "    </tr>\n",
       "    <tr>\n",
       "      <td>0</td>\n",
       "      <td>1</td>\n",
       "      <td>2.403846</td>\n",
       "    </tr>\n",
       "    <tr>\n",
       "      <td>0</td>\n",
       "      <td>1</td>\n",
       "      <td>2.403846</td>\n",
       "    </tr>\n",
       "    <tr>\n",
       "      <td>1</td>\n",
       "      <td>2</td>\n",
       "      <td>1.758065</td>\n",
       "    </tr>\n",
       "    <tr>\n",
       "      <td>1</td>\n",
       "      <td>2</td>\n",
       "      <td>1.758065</td>\n",
       "    </tr>\n",
       "    <tr>\n",
       "      <td>...</td>\n",
       "      <td>...</td>\n",
       "      <td>...</td>\n",
       "    </tr>\n",
       "    <tr>\n",
       "      <td>32</td>\n",
       "      <td>34</td>\n",
       "      <td>1.771515</td>\n",
       "    </tr>\n",
       "    <tr>\n",
       "      <td>32</td>\n",
       "      <td>34</td>\n",
       "      <td>1.771515</td>\n",
       "    </tr>\n",
       "    <tr>\n",
       "      <td>33</td>\n",
       "      <td>35</td>\n",
       "      <td>NaN</td>\n",
       "    </tr>\n",
       "    <tr>\n",
       "      <td>33</td>\n",
       "      <td>35</td>\n",
       "      <td>NaN</td>\n",
       "    </tr>\n",
       "    <tr>\n",
       "      <td>33</td>\n",
       "      <td>35</td>\n",
       "      <td>NaN</td>\n",
       "    </tr>\n",
       "  </tbody>\n",
       "</table>\n",
       "<p>102 rows × 2 columns</p>\n",
       "</div>"
      ],
      "text/plain": [
       "    PID       MMI\n",
       "0     1  2.403846\n",
       "0     1  2.403846\n",
       "0     1  2.403846\n",
       "1     2  1.758065\n",
       "1     2  1.758065\n",
       "..  ...       ...\n",
       "32   34  1.771515\n",
       "32   34  1.771515\n",
       "33   35       NaN\n",
       "33   35       NaN\n",
       "33   35       NaN\n",
       "\n",
       "[102 rows x 2 columns]"
      ]
     },
     "metadata": {},
     "output_type": "display_data"
    }
   ],
   "source": [
    "\n",
    "result = pd.concat([participants,MMI], axis=1)\n",
    "result.columns = ['PID','MMI']\n",
    "\n",
    "#display(result)\n",
    "\n",
    "result.to_csv(os.path.join(path, 'mmi.csv'), index=False, header=True, na_rep='NA')\n",
    "\n",
    "composite = result.loc[result.index.repeat(3)]\n",
    "\n",
    "display(composite)\n",
    "\n",
    "composite.to_csv(os.path.join(path, 'mmi_composite.csv'), index=False, header=True, na_rep='NA')"
   ]
  },
  {
   "cell_type": "code",
   "execution_count": null,
   "metadata": {},
   "outputs": [],
   "source": []
  },
  {
   "cell_type": "code",
   "execution_count": null,
   "metadata": {},
   "outputs": [],
   "source": []
  }
 ],
 "metadata": {
  "kernelspec": {
   "display_name": "Python 3",
   "language": "python",
   "name": "python3"
  },
  "language_info": {
   "codemirror_mode": {
    "name": "ipython",
    "version": 3
   },
   "file_extension": ".py",
   "mimetype": "text/x-python",
   "name": "python",
   "nbconvert_exporter": "python",
   "pygments_lexer": "ipython3",
   "version": "3.7.4"
  }
 },
 "nbformat": 4,
 "nbformat_minor": 4
}
